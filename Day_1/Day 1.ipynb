{
 "cells": [
  {
   "cell_type": "code",
   "execution_count": 13,
   "metadata": {
    "scrolled": true
   },
   "outputs": [
    {
     "data": {
      "text/plain": [
       "[1082,\n",
       " 1770,\n",
       " 1104,\n",
       " 1180,\n",
       " 1939,\n",
       " 1952,\n",
       " 1330,\n",
       " 1569,\n",
       " 1120,\n",
       " 1281,\n",
       " 1144,\n",
       " 1091,\n",
       " 2008,\n",
       " 1967,\n",
       " 1863,\n",
       " 1819,\n",
       " 1813,\n",
       " 1986,\n",
       " 1099,\n",
       " 1860,\n",
       " 1686,\n",
       " 1063,\n",
       " 1620,\n",
       " 1107,\n",
       " 1095,\n",
       " 951,\n",
       " 1897,\n",
       " 1246,\n",
       " 1264,\n",
       " 1562,\n",
       " 1151,\n",
       " 1980,\n",
       " 1942,\n",
       " 1416,\n",
       " 1170,\n",
       " 1258,\n",
       " 1075,\n",
       " 1882,\n",
       " 1329,\n",
       " 2003,\n",
       " 66,\n",
       " 1249,\n",
       " 1302,\n",
       " 1221,\n",
       " 1828,\n",
       " 1154,\n",
       " 1662,\n",
       " 1103,\n",
       " 1879,\n",
       " 1205,\n",
       " 1936,\n",
       " 1472,\n",
       " 1816,\n",
       " 1071,\n",
       " 1237,\n",
       " 1467,\n",
       " 1919,\n",
       " 942,\n",
       " 74,\n",
       " 1178,\n",
       " 1949,\n",
       " 1947,\n",
       " 1613,\n",
       " 1931,\n",
       " 1332,\n",
       " 24,\n",
       " 1987,\n",
       " 1796,\n",
       " 1256,\n",
       " 1981,\n",
       " 1158,\n",
       " 1114,\n",
       " 2004,\n",
       " 1696,\n",
       " 1775,\n",
       " 1718,\n",
       " 1102,\n",
       " 1998,\n",
       " 1540,\n",
       " 1129,\n",
       " 1870,\n",
       " 1841,\n",
       " 1582,\n",
       " 1173,\n",
       " 1417,\n",
       " 1604,\n",
       " 1214,\n",
       " 1941,\n",
       " 1440,\n",
       " 1381,\n",
       " 1149,\n",
       " 1111,\n",
       " 1766,\n",
       " 1747,\n",
       " 1940,\n",
       " 960,\n",
       " 1449,\n",
       " 1171,\n",
       " 1584,\n",
       " 1926,\n",
       " 1065,\n",
       " 1832,\n",
       " 1633,\n",
       " 1245,\n",
       " 1889,\n",
       " 1906,\n",
       " 1198,\n",
       " 1959,\n",
       " 1340,\n",
       " 1951,\n",
       " 1347,\n",
       " 1097,\n",
       " 1660,\n",
       " 1957,\n",
       " 1134,\n",
       " 1730,\n",
       " 1105,\n",
       " 1124,\n",
       " 1073,\n",
       " 1679,\n",
       " 1397,\n",
       " 1963,\n",
       " 1136,\n",
       " 1983,\n",
       " 1806,\n",
       " 1964,\n",
       " 1821,\n",
       " 1997,\n",
       " 1254,\n",
       " 1823,\n",
       " 1092,\n",
       " 1119,\n",
       " 2000,\n",
       " 1089,\n",
       " 1933,\n",
       " 1478,\n",
       " 1923,\n",
       " 1576,\n",
       " 1571,\n",
       " 415,\n",
       " 1875,\n",
       " 1937,\n",
       " 1112,\n",
       " 1831,\n",
       " 1969,\n",
       " 1506,\n",
       " 1929,\n",
       " 1960,\n",
       " 1322,\n",
       " 110,\n",
       " 1141,\n",
       " 1080,\n",
       " 1603,\n",
       " 1126,\n",
       " 1036,\n",
       " 1762,\n",
       " 1904,\n",
       " 1122,\n",
       " 1988,\n",
       " 1962,\n",
       " 1958,\n",
       " 1953,\n",
       " 1068,\n",
       " 1188,\n",
       " 1483,\n",
       " 1518,\n",
       " 1471,\n",
       " 1961,\n",
       " 1217,\n",
       " 1559,\n",
       " 1789,\n",
       " 1523,\n",
       " 2007,\n",
       " 1093,\n",
       " 1745,\n",
       " 1955,\n",
       " 1948,\n",
       " 1474,\n",
       " 1628,\n",
       " 691,\n",
       " 1398,\n",
       " 1876,\n",
       " 1650,\n",
       " 1838,\n",
       " 1950,\n",
       " 1088,\n",
       " 1697,\n",
       " 1977,\n",
       " 1364,\n",
       " 1966,\n",
       " 1945,\n",
       " 1975,\n",
       " 1606,\n",
       " 1974,\n",
       " 1847,\n",
       " 1570,\n",
       " 1148,\n",
       " 1599,\n",
       " 1772,\n",
       " 1970]"
      ]
     },
     "execution_count": 13,
     "metadata": {},
     "output_type": "execute_result"
    }
   ],
   "source": [
    "with open(\"input.txt\", \"r\") as f:\n",
    "    data = f.readlines()\n",
    "\n",
    "numbers = [int(num.split()[0]) for num in data]\n",
    "numbers"
   ]
  },
  {
   "cell_type": "code",
   "execution_count": 15,
   "metadata": {},
   "outputs": [
    {
     "name": "stdout",
     "output_type": "stream",
     "text": [
      "918339\n"
     ]
    }
   ],
   "source": [
    "## part 1\n",
    "for i, num1 in enumerate(numbers):\n",
    "    for num2 in numbers[i + 1:]:\n",
    "        if num1 + num2 == 2020:\n",
    "            print(num1 * num2)"
   ]
  },
  {
   "cell_type": "code",
   "execution_count": 26,
   "metadata": {},
   "outputs": [
    {
     "name": "stdout",
     "output_type": "stream",
     "text": [
      "23869440\n",
      "23869440\n",
      "--- 0.4283919334411621 seconds ---\n"
     ]
    }
   ],
   "source": [
    "## part 2\n",
    "import time\n",
    "start_time = time.time()\n",
    "\n",
    "for i, num1 in enumerate(numbers):\n",
    "    if i < len(numbers) - 1:\n",
    "        for num2 in numbers[i + 1:]:\n",
    "            for num3 in numbers[i + 2:]:\n",
    "                if num1 + num2 + num3 == 2020:\n",
    "                    print(num1 * num2 * num3)\n",
    "\n",
    "print(\"--- %s seconds ---\" % (time.time() - start_time))"
   ]
  },
  {
   "cell_type": "code",
   "execution_count": 28,
   "metadata": {},
   "outputs": [
    {
     "name": "stdout",
     "output_type": "stream",
     "text": [
      "1036 24 960\n",
      "960 24 1036\n",
      "1036 960 24\n",
      "24 960 1036\n",
      "960 1036 24\n",
      "24 1036 960\n",
      "--- 0.10595273971557617 seconds ---\n"
     ]
    }
   ],
   "source": [
    "#Better way: checking if sth is in an array is much faster\n",
    "start_time = time.time()\n",
    "\n",
    "for i in numbers:\n",
    "    for j in numbers:\n",
    "        if (2020- i - j) in numbers:\n",
    "            print(2020-i-j, i, j)\n",
    "\n",
    "print(\"--- %s seconds ---\" % (time.time() - start_time))"
   ]
  },
  {
   "cell_type": "code",
   "execution_count": null,
   "metadata": {},
   "outputs": [],
   "source": []
  },
  {
   "cell_type": "code",
   "execution_count": null,
   "metadata": {},
   "outputs": [],
   "source": []
  },
  {
   "cell_type": "code",
   "execution_count": null,
   "metadata": {},
   "outputs": [],
   "source": []
  },
  {
   "cell_type": "code",
   "execution_count": null,
   "metadata": {},
   "outputs": [],
   "source": []
  },
  {
   "cell_type": "code",
   "execution_count": null,
   "metadata": {},
   "outputs": [],
   "source": []
  },
  {
   "cell_type": "code",
   "execution_count": null,
   "metadata": {},
   "outputs": [],
   "source": []
  },
  {
   "cell_type": "code",
   "execution_count": null,
   "metadata": {},
   "outputs": [],
   "source": []
  },
  {
   "cell_type": "code",
   "execution_count": null,
   "metadata": {},
   "outputs": [],
   "source": []
  },
  {
   "cell_type": "code",
   "execution_count": null,
   "metadata": {},
   "outputs": [],
   "source": []
  },
  {
   "cell_type": "code",
   "execution_count": null,
   "metadata": {},
   "outputs": [],
   "source": []
  },
  {
   "cell_type": "code",
   "execution_count": null,
   "metadata": {},
   "outputs": [],
   "source": []
  },
  {
   "cell_type": "code",
   "execution_count": null,
   "metadata": {},
   "outputs": [],
   "source": []
  },
  {
   "cell_type": "code",
   "execution_count": null,
   "metadata": {},
   "outputs": [],
   "source": []
  },
  {
   "cell_type": "code",
   "execution_count": null,
   "metadata": {},
   "outputs": [],
   "source": []
  },
  {
   "cell_type": "code",
   "execution_count": null,
   "metadata": {},
   "outputs": [],
   "source": []
  },
  {
   "cell_type": "code",
   "execution_count": null,
   "metadata": {},
   "outputs": [],
   "source": []
  },
  {
   "cell_type": "code",
   "execution_count": null,
   "metadata": {},
   "outputs": [],
   "source": []
  },
  {
   "cell_type": "code",
   "execution_count": null,
   "metadata": {},
   "outputs": [],
   "source": []
  },
  {
   "cell_type": "code",
   "execution_count": null,
   "metadata": {},
   "outputs": [],
   "source": []
  },
  {
   "cell_type": "code",
   "execution_count": null,
   "metadata": {},
   "outputs": [],
   "source": []
  },
  {
   "cell_type": "code",
   "execution_count": null,
   "metadata": {},
   "outputs": [],
   "source": []
  },
  {
   "cell_type": "code",
   "execution_count": null,
   "metadata": {},
   "outputs": [],
   "source": []
  },
  {
   "cell_type": "code",
   "execution_count": null,
   "metadata": {},
   "outputs": [],
   "source": []
  }
 ],
 "metadata": {
  "kernelspec": {
   "display_name": "Python 3",
   "language": "python",
   "name": "python3"
  },
  "language_info": {
   "codemirror_mode": {
    "name": "ipython",
    "version": 3
   },
   "file_extension": ".py",
   "mimetype": "text/x-python",
   "name": "python",
   "nbconvert_exporter": "python",
   "pygments_lexer": "ipython3",
   "version": "3.7.6"
  }
 },
 "nbformat": 4,
 "nbformat_minor": 4
}
